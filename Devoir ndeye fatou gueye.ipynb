{
 "cells": [
  {
   "cell_type": "markdown",
   "id": "6c52d089",
   "metadata": {},
   "source": [
    "# Exercice 1 \n",
    "A. Répondre par Vrai ou Faux en justifiant votre réponse\n",
    "\n",
    "   1. Une liste en Python est un type de données immuable, ce qui signifie qu'on \n",
    "      ne peut pas modifier son contenu. \n",
    "Reponse:  Faux (Une liste en python peut etre modifiable)\n",
    "     \n",
    "   2. Les index dans un DataFrame Pandas sont toujours numériques.\n",
    "reponse:faux (les index dans un dataframe pandas peuvent etre non numerique)\n",
    "\n",
    "   3. L'utilisation de iloc dans Pandas permet d'accéder aux données en \n",
    "      utilisant des étiquettes. \n",
    "Reponse: Faux ( Iloc utilise des entiers )\n",
    "\n",
    "   4. En Python, une variable peut changer de type après avoir été définie.\n",
    "Reponse: Vrai ( Python est un type dynamique)\n",
    "   \n",
    "   5. Python est un langage de programmation interprété\n",
    "Reponse: Vrai \n",
    "\n",
    "\n",
    "B.Repondre aux questions\n",
    "  \n",
    "  1.La difference est que une tuple est immuable, on peut modifier ces donnees alors que une liste est modifiable\n",
    "  \n",
    "  2.Iloc utilise des indices entiers loc utilise les etiquettes\n",
    "  \n",
    "  3.Une bibliotheque est un ensemble de de fonctions , classes et modules etendent les capacites du langage\n",
    "    \n",
    "  4.La difference est que une Series est comme une seule colonne tandisqu'une dataframe est un table entiere\n",
    "  \n",
    "  5.analyse descriptive ,diagnostique,predictive,prescriptive\n"
   ]
  },
  {
   "cell_type": "code",
   "execution_count": 1,
   "id": "6adde266",
   "metadata": {},
   "outputs": [],
   "source": [
    "import numpy as np\n",
    "import pandas as pd\n"
   ]
  },
  {
   "cell_type": "code",
   "execution_count": 2,
   "id": "26af20ae",
   "metadata": {
    "scrolled": true
   },
   "outputs": [],
   "source": [
    "df=pd.read_csv('C:\\\\Users\\\\NZO BUSINESS\\\\Desktop\\\\all_data_2025.csv')"
   ]
  },
  {
   "cell_type": "code",
   "execution_count": 3,
   "id": "fb2b84dc",
   "metadata": {},
   "outputs": [
    {
     "name": "stdout",
     "output_type": "stream",
     "text": [
      "<class 'pandas.core.frame.DataFrame'>\n",
      "RangeIndex: 186850 entries, 0 to 186849\n",
      "Data columns (total 6 columns):\n",
      " #   Column            Non-Null Count   Dtype \n",
      "---  ------            --------------   ----- \n",
      " 0   Order ID          186305 non-null  object\n",
      " 1   Product           186305 non-null  object\n",
      " 2   Quantity Ordered  186305 non-null  object\n",
      " 3   Price Each        186305 non-null  object\n",
      " 4   Order Date        186305 non-null  object\n",
      " 5   Purchase Address  186305 non-null  object\n",
      "dtypes: object(6)\n",
      "memory usage: 8.6+ MB\n"
     ]
    }
   ],
   "source": [
    "df.info()"
   ]
  },
  {
   "cell_type": "code",
   "execution_count": 4,
   "id": "21cd5111",
   "metadata": {},
   "outputs": [
    {
     "data": {
      "text/plain": [
       "(186850, 6)"
      ]
     },
     "execution_count": 4,
     "metadata": {},
     "output_type": "execute_result"
    }
   ],
   "source": [
    "df.shape"
   ]
  },
  {
   "cell_type": "code",
   "execution_count": 5,
   "id": "cf316d02",
   "metadata": {
    "scrolled": true
   },
   "outputs": [
    {
     "data": {
      "text/html": [
       "<div>\n",
       "<style scoped>\n",
       "    .dataframe tbody tr th:only-of-type {\n",
       "        vertical-align: middle;\n",
       "    }\n",
       "\n",
       "    .dataframe tbody tr th {\n",
       "        vertical-align: top;\n",
       "    }\n",
       "\n",
       "    .dataframe thead th {\n",
       "        text-align: right;\n",
       "    }\n",
       "</style>\n",
       "<table border=\"1\" class=\"dataframe\">\n",
       "  <thead>\n",
       "    <tr style=\"text-align: right;\">\n",
       "      <th></th>\n",
       "      <th>Order ID</th>\n",
       "      <th>Product</th>\n",
       "      <th>Quantity Ordered</th>\n",
       "      <th>Price Each</th>\n",
       "      <th>Order Date</th>\n",
       "      <th>Purchase Address</th>\n",
       "    </tr>\n",
       "  </thead>\n",
       "  <tbody>\n",
       "    <tr>\n",
       "      <th>186846</th>\n",
       "      <td>222906</td>\n",
       "      <td>27in FHD Monitor</td>\n",
       "      <td>1</td>\n",
       "      <td>149.99</td>\n",
       "      <td>06/01/19 19:29</td>\n",
       "      <td>495 North St, New York City, NY 10001</td>\n",
       "    </tr>\n",
       "    <tr>\n",
       "      <th>186847</th>\n",
       "      <td>222907</td>\n",
       "      <td>USB-C Charging Cable</td>\n",
       "      <td>1</td>\n",
       "      <td>11.95</td>\n",
       "      <td>06/22/19 18:57</td>\n",
       "      <td>319 Ridge St, San Francisco, CA 94016</td>\n",
       "    </tr>\n",
       "    <tr>\n",
       "      <th>186848</th>\n",
       "      <td>222908</td>\n",
       "      <td>USB-C Charging Cable</td>\n",
       "      <td>1</td>\n",
       "      <td>11.95</td>\n",
       "      <td>06/26/19 18:35</td>\n",
       "      <td>916 Main St, San Francisco, CA 94016</td>\n",
       "    </tr>\n",
       "    <tr>\n",
       "      <th>186849</th>\n",
       "      <td>222909</td>\n",
       "      <td>AAA Batteries (4-pack)</td>\n",
       "      <td>1</td>\n",
       "      <td>2.99</td>\n",
       "      <td>06/25/19 14:33</td>\n",
       "      <td>209 11th St, Atlanta, GA 30301</td>\n",
       "    </tr>\n",
       "  </tbody>\n",
       "</table>\n",
       "</div>"
      ],
      "text/plain": [
       "       Order ID                 Product Quantity Ordered Price Each  \\\n",
       "186846   222906        27in FHD Monitor                1     149.99   \n",
       "186847   222907    USB-C Charging Cable                1      11.95   \n",
       "186848   222908    USB-C Charging Cable                1      11.95   \n",
       "186849   222909  AAA Batteries (4-pack)                1       2.99   \n",
       "\n",
       "            Order Date                       Purchase Address  \n",
       "186846  06/01/19 19:29  495 North St, New York City, NY 10001  \n",
       "186847  06/22/19 18:57  319 Ridge St, San Francisco, CA 94016  \n",
       "186848  06/26/19 18:35   916 Main St, San Francisco, CA 94016  \n",
       "186849  06/25/19 14:33         209 11th St, Atlanta, GA 30301  "
      ]
     },
     "execution_count": 5,
     "metadata": {},
     "output_type": "execute_result"
    }
   ],
   "source": [
    "df.tail(4)"
   ]
  },
  {
   "cell_type": "code",
   "execution_count": 6,
   "id": "a2bb7d6c",
   "metadata": {
    "scrolled": true
   },
   "outputs": [
    {
     "data": {
      "text/plain": [
       "Order ID            object\n",
       "Product             object\n",
       "Quantity Ordered    object\n",
       "Price Each          object\n",
       "Order Date          object\n",
       "Purchase Address    object\n",
       "dtype: object"
      ]
     },
     "execution_count": 6,
     "metadata": {},
     "output_type": "execute_result"
    }
   ],
   "source": [
    "df.dtypes"
   ]
  },
  {
   "cell_type": "code",
   "execution_count": 7,
   "id": "7084c3e0",
   "metadata": {},
   "outputs": [
    {
     "data": {
      "text/plain": [
       "178438"
      ]
     },
     "execution_count": 7,
     "metadata": {},
     "output_type": "execute_result"
    }
   ],
   "source": [
    "df['Order ID'].nunique()"
   ]
  },
  {
   "cell_type": "code",
   "execution_count": 8,
   "id": "046c50b9",
   "metadata": {},
   "outputs": [],
   "source": [
    "masque=df['Order ID']!='Order ID'"
   ]
  },
  {
   "cell_type": "code",
   "execution_count": 9,
   "id": "9ecad3f7",
   "metadata": {},
   "outputs": [],
   "source": [
    "dfnew=df[masque]"
   ]
  },
  {
   "cell_type": "code",
   "execution_count": 10,
   "id": "c1b942d5",
   "metadata": {},
   "outputs": [
    {
     "data": {
      "text/plain": [
       "Order ID            object\n",
       "Product             object\n",
       "Quantity Ordered    object\n",
       "Price Each          object\n",
       "Order Date          object\n",
       "Purchase Address    object\n",
       "dtype: object"
      ]
     },
     "execution_count": 10,
     "metadata": {},
     "output_type": "execute_result"
    }
   ],
   "source": [
    "dfnew.dtypes"
   ]
  },
  {
   "cell_type": "code",
   "execution_count": 11,
   "id": "6946dd06",
   "metadata": {},
   "outputs": [
    {
     "data": {
      "text/plain": [
       "Order ID            545\n",
       "Product             545\n",
       "Quantity Ordered    545\n",
       "Price Each          545\n",
       "Order Date          545\n",
       "Purchase Address    545\n",
       "dtype: int64"
      ]
     },
     "execution_count": 11,
     "metadata": {},
     "output_type": "execute_result"
    }
   ],
   "source": [
    "dfnew.isna().sum()"
   ]
  },
  {
   "cell_type": "code",
   "execution_count": 12,
   "id": "98d27f8b",
   "metadata": {},
   "outputs": [],
   "source": [
    "dfnew=dfnew.dropna()"
   ]
  },
  {
   "cell_type": "code",
   "execution_count": 13,
   "id": "f1fa613a",
   "metadata": {},
   "outputs": [
    {
     "data": {
      "text/plain": [
       "Order ID            0\n",
       "Product             0\n",
       "Quantity Ordered    0\n",
       "Price Each          0\n",
       "Order Date          0\n",
       "Purchase Address    0\n",
       "dtype: int64"
      ]
     },
     "execution_count": 13,
     "metadata": {},
     "output_type": "execute_result"
    }
   ],
   "source": [
    "dfnew.isna().sum()"
   ]
  },
  {
   "cell_type": "code",
   "execution_count": 14,
   "id": "18c88ee9",
   "metadata": {},
   "outputs": [],
   "source": [
    "dfnew['Quantity Ordered']=dfnew['Quantity Ordered'].astype('int')"
   ]
  },
  {
   "cell_type": "code",
   "execution_count": 15,
   "id": "dcea53c1",
   "metadata": {},
   "outputs": [
    {
     "name": "stderr",
     "output_type": "stream",
     "text": [
      "C:\\Users\\NZO BUSINESS\\AppData\\Local\\Temp\\ipykernel_11244\\3322872935.py:1: UserWarning: Could not infer format, so each element will be parsed individually, falling back to `dateutil`. To ensure parsing is consistent and as-expected, please specify a format.\n",
      "  dfnew['Order Date']=pd.to_datetime(dfnew['Order Date'])\n"
     ]
    }
   ],
   "source": [
    "dfnew['Order Date']=pd.to_datetime(dfnew['Order Date'])"
   ]
  },
  {
   "cell_type": "code",
   "execution_count": 16,
   "id": "8ef7db50",
   "metadata": {},
   "outputs": [],
   "source": [
    "dfnew['Price Each ']=dfnew['Price Each'].astype('float')"
   ]
  },
  {
   "cell_type": "code",
   "execution_count": 17,
   "id": "c793a9b6",
   "metadata": {},
   "outputs": [
    {
     "data": {
      "text/plain": [
       "0         12\n",
       "1         12\n",
       "2         12\n",
       "3         12\n",
       "4         12\n",
       "          ..\n",
       "186845     6\n",
       "186846     6\n",
       "186847     6\n",
       "186848     6\n",
       "186849     6\n",
       "Name: Order Date, Length: 185950, dtype: int32"
      ]
     },
     "execution_count": 17,
     "metadata": {},
     "output_type": "execute_result"
    }
   ],
   "source": [
    "dfnew['Order Date'].dt.month"
   ]
  },
  {
   "cell_type": "code",
   "execution_count": 18,
   "id": "0f535959",
   "metadata": {},
   "outputs": [],
   "source": [
    "dfnew['mois']=dfnew['Order Date'].dt.month"
   ]
  },
  {
   "cell_type": "code",
   "execution_count": 19,
   "id": "09baada3",
   "metadata": {},
   "outputs": [
    {
     "data": {
      "text/plain": [
       "Index(['Order ID', 'Product', 'Quantity Ordered', 'Price Each', 'Order Date',\n",
       "       'Purchase Address', 'Price Each ', 'mois'],\n",
       "      dtype='object')"
      ]
     },
     "execution_count": 19,
     "metadata": {},
     "output_type": "execute_result"
    }
   ],
   "source": [
    "dfnew.columns"
   ]
  },
  {
   "cell_type": "code",
   "execution_count": 20,
   "id": "aa41dd24",
   "metadata": {},
   "outputs": [
    {
     "data": {
      "text/plain": [
       "12"
      ]
     },
     "execution_count": 20,
     "metadata": {},
     "output_type": "execute_result"
    }
   ],
   "source": [
    "dfnew.groupby('mois')['Quantity Ordered'].sum().idxmax()"
   ]
  },
  {
   "cell_type": "code",
   "execution_count": 21,
   "id": "ea1eee09",
   "metadata": {},
   "outputs": [
    {
     "name": "stderr",
     "output_type": "stream",
     "text": [
      "Matplotlib is building the font cache; this may take a moment.\n"
     ]
    },
    {
     "data": {
      "text/plain": [
       "<Axes: >"
      ]
     },
     "execution_count": 21,
     "metadata": {},
     "output_type": "execute_result"
    },
    {
     "data": {
      "image/png": "[encoded data removed]",
      "text/plain": [
       "<Figure size 640x480 with 1 Axes>"
      ]
     },
     "metadata": {},
     "output_type": "display_data"
    }
   ],
   "source": [
    "dfnew.groupby('mois')['Quantity Ordered'].sum().hist()"
   ]
  },
  {
   "cell_type": "code",
   "execution_count": 22,
   "id": "6100a191",
   "metadata": {},
   "outputs": [],
   "source": [
    "dfnew['Chiffres_Affaires']=dfnew['Quantity Ordered']*dfnew['Price Each']"
   ]
  },
  {
   "cell_type": "code",
   "execution_count": 23,
   "id": "76f2dd72",
   "metadata": {},
   "outputs": [
    {
     "data": {
      "text/plain": [
       "0           1700\n",
       "1          600.0\n",
       "2          11.95\n",
       "3         149.99\n",
       "4          11.95\n",
       "           ...  \n",
       "186845      2.99\n",
       "186846    149.99\n",
       "186847     11.95\n",
       "186848     11.95\n",
       "186849      2.99\n",
       "Name: Chiffres_Affaires, Length: 185950, dtype: object"
      ]
     },
     "execution_count": 23,
     "metadata": {},
     "output_type": "execute_result"
    }
   ],
   "source": [
    "dfnew['Chiffres_Affaires']"
   ]
  },
  {
   "cell_type": "code",
   "execution_count": 27,
   "id": "693a4e32",
   "metadata": {},
   "outputs": [
    {
     "ename": "TypeError",
     "evalue": "reduction operation 'argmax' not allowed for this dtype",
     "output_type": "error",
     "traceback": [
      "\u001b[1;31m---------------------------------------------------------------------------\u001b[0m",
      "\u001b[1;31mTypeError\u001b[0m                                 Traceback (most recent call last)",
      "Cell \u001b[1;32mIn[27], line 1\u001b[0m\n\u001b[1;32m----> 1\u001b[0m dfnew\u001b[38;5;241m.\u001b[39mgroupby(\u001b[38;5;124m'\u001b[39m\u001b[38;5;124mmois\u001b[39m\u001b[38;5;124m'\u001b[39m)[\u001b[38;5;124m'\u001b[39m\u001b[38;5;124mChiffres_Affaires\u001b[39m\u001b[38;5;124m'\u001b[39m]\u001b[38;5;241m.\u001b[39msum()\u001b[38;5;241m.\u001b[39midxmax()\n",
      "File \u001b[1;32m~\\anaconda3\\Lib\\site-packages\\pandas\\core\\series.py:2531\u001b[0m, in \u001b[0;36mSeries.idxmax\u001b[1;34m(self, axis, skipna, *args, **kwargs)\u001b[0m\n\u001b[0;32m   2466\u001b[0m \u001b[38;5;250m\u001b[39m\u001b[38;5;124;03m\"\"\"\u001b[39;00m\n\u001b[0;32m   2467\u001b[0m \u001b[38;5;124;03mReturn the row label of the maximum value.\u001b[39;00m\n\u001b[0;32m   2468\u001b[0m \n\u001b[1;32m   (...)\u001b[0m\n\u001b[0;32m   2527\u001b[0m \u001b[38;5;124;03mnan\u001b[39;00m\n\u001b[0;32m   2528\u001b[0m \u001b[38;5;124;03m\"\"\"\u001b[39;00m\n\u001b[0;32m   2529\u001b[0m \u001b[38;5;66;03m# error: Argument 1 to \"argmax\" of \"IndexOpsMixin\" has incompatible type\u001b[39;00m\n\u001b[0;32m   2530\u001b[0m \u001b[38;5;66;03m# \"Union[int, Literal['index', 'columns']]\"; expected \"Optional[int]\"\u001b[39;00m\n\u001b[1;32m-> 2531\u001b[0m i \u001b[38;5;241m=\u001b[39m \u001b[38;5;28mself\u001b[39m\u001b[38;5;241m.\u001b[39margmax(axis, skipna, \u001b[38;5;241m*\u001b[39margs, \u001b[38;5;241m*\u001b[39m\u001b[38;5;241m*\u001b[39mkwargs)  \u001b[38;5;66;03m# type: ignore[arg-type]\u001b[39;00m\n\u001b[0;32m   2532\u001b[0m \u001b[38;5;28;01mif\u001b[39;00m i \u001b[38;5;241m==\u001b[39m \u001b[38;5;241m-\u001b[39m\u001b[38;5;241m1\u001b[39m:\n\u001b[0;32m   2533\u001b[0m     \u001b[38;5;28;01mreturn\u001b[39;00m np\u001b[38;5;241m.\u001b[39mnan\n",
      "File \u001b[1;32m~\\anaconda3\\Lib\\site-packages\\pandas\\core\\base.py:678\u001b[0m, in \u001b[0;36mIndexOpsMixin.argmax\u001b[1;34m(self, axis, skipna, *args, **kwargs)\u001b[0m\n\u001b[0;32m    674\u001b[0m         \u001b[38;5;28;01mreturn\u001b[39;00m delegate\u001b[38;5;241m.\u001b[39margmax()\n\u001b[0;32m    675\u001b[0m \u001b[38;5;28;01melse\u001b[39;00m:\n\u001b[0;32m    676\u001b[0m     \u001b[38;5;66;03m# error: Incompatible return value type (got \"Union[int, ndarray]\", expected\u001b[39;00m\n\u001b[0;32m    677\u001b[0m     \u001b[38;5;66;03m# \"int\")\u001b[39;00m\n\u001b[1;32m--> 678\u001b[0m     \u001b[38;5;28;01mreturn\u001b[39;00m nanops\u001b[38;5;241m.\u001b[39mnanargmax(  \u001b[38;5;66;03m# type: ignore[return-value]\u001b[39;00m\n\u001b[0;32m    679\u001b[0m         delegate, skipna\u001b[38;5;241m=\u001b[39mskipna\n\u001b[0;32m    680\u001b[0m     )\n",
      "File \u001b[1;32m~\\anaconda3\\Lib\\site-packages\\pandas\\core\\nanops.py:91\u001b[0m, in \u001b[0;36mdisallow.__call__.<locals>._f\u001b[1;34m(*args, **kwargs)\u001b[0m\n\u001b[0;32m     89\u001b[0m \u001b[38;5;28;01mif\u001b[39;00m \u001b[38;5;28many\u001b[39m(\u001b[38;5;28mself\u001b[39m\u001b[38;5;241m.\u001b[39mcheck(obj) \u001b[38;5;28;01mfor\u001b[39;00m obj \u001b[38;5;129;01min\u001b[39;00m obj_iter):\n\u001b[0;32m     90\u001b[0m     f_name \u001b[38;5;241m=\u001b[39m f\u001b[38;5;241m.\u001b[39m\u001b[38;5;18m__name__\u001b[39m\u001b[38;5;241m.\u001b[39mreplace(\u001b[38;5;124m\"\u001b[39m\u001b[38;5;124mnan\u001b[39m\u001b[38;5;124m\"\u001b[39m, \u001b[38;5;124m\"\u001b[39m\u001b[38;5;124m\"\u001b[39m)\n\u001b[1;32m---> 91\u001b[0m     \u001b[38;5;28;01mraise\u001b[39;00m \u001b[38;5;167;01mTypeError\u001b[39;00m(\n\u001b[0;32m     92\u001b[0m         \u001b[38;5;124mf\u001b[39m\u001b[38;5;124m\"\u001b[39m\u001b[38;5;124mreduction operation \u001b[39m\u001b[38;5;124m'\u001b[39m\u001b[38;5;132;01m{\u001b[39;00mf_name\u001b[38;5;132;01m}\u001b[39;00m\u001b[38;5;124m'\u001b[39m\u001b[38;5;124m not allowed for this dtype\u001b[39m\u001b[38;5;124m\"\u001b[39m\n\u001b[0;32m     93\u001b[0m     )\n\u001b[0;32m     94\u001b[0m \u001b[38;5;28;01mtry\u001b[39;00m:\n\u001b[0;32m     95\u001b[0m     \u001b[38;5;28;01mwith\u001b[39;00m np\u001b[38;5;241m.\u001b[39merrstate(invalid\u001b[38;5;241m=\u001b[39m\u001b[38;5;124m\"\u001b[39m\u001b[38;5;124mignore\u001b[39m\u001b[38;5;124m\"\u001b[39m):\n",
      "\u001b[1;31mTypeError\u001b[0m: reduction operation 'argmax' not allowed for this dtype"
     ]
    }
   ],
   "source": [
    "dfnew.groupby('mois')['Chiffres_Affaires'].sum().idxmax()"
   ]
  },
  {
   "cell_type": "code",
   "execution_count": 28,
   "id": "54ca463d",
   "metadata": {},
   "outputs": [
    {
     "data": {
      "text/plain": [
       "'7003.84389.9914.953.843.8414.953.8415011.9511.9599.9999.99149.9915014.9511.99170070011.993.843.84300109.99600.011.99109.992.9911.952.992.993.843.843.843.84999.9911.9511.952.992.992.9911.9911.991503.843.841503.8411.9914.9517002.992.991700700999.99389.9911.99379.993.84149.9914.953.843.8411.9915015011.99389.9970011.9511.99149.9915011.993.843.843.8411.9914.95149.9915014.953.8499.993.8411.9511.953.843.8470014.95149.992.9911.9515014.952.992.993001502.992.9911.9599.9911.9511.952.9911.9511.99109.993.842.992.9915011.953.8411.953.8414.95999.9911.95149.992.9911.953.843.843.84149.99389.9960011.9511.9511.951503.84379.99700379.992.993.843.8411.9514.9514.953.84150109.9911.9911.9911.9570011.951503.8414.9514.954002.9914.9515099.99389.99149.99109.99389.99149.9999.9960011.952.99149.9911.992.99149.992.9911.95389.99149.9911.9911.992.99999.992.992.9911.9911.9511.997003.8499.9911.9599.9960011.9511.9914.95149.99999.993.8499.9970011.9511.95150149.99379.9914.9514.9570011.9960011.992.993.84109.9999.9911.991503.843.8499.99379.9911.9511.95999.99379.99389.99389.9999.9914.9514.9599.9911.95389.993003.843.843.842.992.9999.9915099.9911.953.842.99149.991503.843.8414.95379.993.843.8411.9515011.9960011.9511.9514.953.84389.9960011.953.8411.992.9999.9914.95379.9999.9911.992.99379.993.843.843.842.9911.952.9940070011.9511.9511.9914.952.993.8499.9911.9570011.9914.953.843.842.9911.953.843.843.842.993.8499.9999.9914.95150379.993.8499.993.843.8414.9599.9914.9514.95150149.9960099.9914.952.993.841503.843.8411.9511.9914.9511.9515011.99999.992.99389.992.992.9911.9511.9511.95170099.9911.952.9960099.992.993.8411.95389.993.8411.9511.9560015011.9511.993003.843.84149.993.8499.993.8411.9511.99149.9999.9911.951700389.9911.9511.952.9911.9511.9599.9915011.9914.9511.956002.993.8414.9514.95170011.952.992.992.99600389.992.992.993.842.992.99389.99389.99379.9930011.9511.9514.952.992.992.99379.99109.9911.953.8499.99149.9911.9514.953.8411.992.992.992.992.992.9914.9514.9514.9514.9514.95600.011.9515011.95379.9911.9911.9911.9911.99999.9911.99379.9911.9911.9515014.9511.99150999.99600600.014.9511.953.8411.952.992.992.99600.03.84379.9911.952.9915011.9914.95149.992.991503.84389.992.992.99379.9914.9514.9514.95149.99170014.9599.992.992.99999.9970014.9570011.9911.9911.9511.951503.84109.9917003.8499.9914.9599.9914.95600.099.99999.9914.9599.9999.9915011.9511.9599.9970011.9911.9514.9511.9514.95600.070014.9515011.953.8411.9911.9917001507001503.843.8440011.99149.9960011.9914.9599.993.843.843.843.843.8411.992.992.992.992.992.9960011.9560099.9999.9914.9599.993.8414.95109.9999.9914.9530011.993002.992.992.992.993.843.84379.9930011.993.84379.9911.952.9915014.953.843.84379.992.993.843.8411.9511.9514.9511.9511.953.843.8411.9515070011.95149.99999.9999.9999.9911.95379.9914.9511.992.992.992.992.9911.9911.9911.993.843.84300379.992.9911.9511.9599.992.99379.9911.9914.95149.9911.9915099.9911.992.9914.9511.992.9914.9517003.843.8470014.9514.952.993.843.847002.9970011.993.843.843.8411.9911.953.843.84170014.95389.9911.9511.99389.992.992.993.843.8460011.9915014.95149.99149.9914.9511.953.8499.99389.9911.953007002.99999.99379.9911.951503.8411.952.992.992.9911.9511.95600.014.953.8430014.9511.9911.9911.991503.842.992.992.992.992.99170011.9599.9911.991503.8414.95389.997002.9914.953.8411.992.992.9911.9515099.993.843.843.843.8415011.9511.95600.02.99149.9914.953.8411.992.99150999.9911.9999.99389.9914.9511.9911.952.99389.99149.99149.9915011.9511.95700149.9911.9511.9511.9560011.9911.9940011.9999.99379.992.99109.992.9915099.9914.9530011.9911.953.8414.9517002.99379.9970011.9914.9514.952.992.99379.993.843.8470011.993.843.84109.994002.992.992.9960014.95379.9911.9514.95379.9917002.992.9911.992.992.9914.9511.9530014.9570014.9570011.9511.95400389.996006002.992.99150389.9999.993.8415011.9515011.95170011.993.8414.9511.953.843.8470014.9514.95379.9911.9514.953.843.8414.95700150150389.9914.95170014.9511.99999.9960030011.951503.84150170015011.992.9915070011.9511.9511.9511.9511.9999.9911.993.8414.9511.9911.95600150379.99389.99149.9940011.952.992.9911.9570014.9514.952.992.9999.9999.992.9914.95300150600.06002.9911.992.9999.9915011.9570011.991503.843.84389.9911.9511.9560011.95999.99389.9930070011.9511.953.843.8414.9514.9570014.95149.997001502.99600600.011.9911.9999.99389.99149.9970015011.9599.99109.9970011.9911.9599.992.993.842.9911.95389.9911.9911.9514.9515014.95109.9911.95109.9999.9914.95379.99149.99379.99389.9911.9511.952.99389.9915011.9911.9999.9914.95999.9911.9511.9914.95150389.9917001700149.9914.9514.95149.9911.9915011.9560011.9911.9999.993.8414.953.843.84600149.99379.991503.843.8415011.99999.99999.99700150999.9911.9511.95389.993.84999.99109.9911.993.843.843.8411.99109.9911.993.8411.9911.9911.99379.9911.9511.993.8499.99379.9911.9514.9514.953.8411.9911.991700149.992.99389.99149.9911.9914.9560011.9599.992.993.843.843.843.842.992.992.9911.9599.9911.9915070011.9514.95379.9999.9999.9911.992.9911.9999.99150700149.99109.996003001503.8411.9911.953003.843.842.9915011.9514.95150700149.9911.9914.953.843.843.84149.992.992.9911.9911.992.99379.9911.9514.9599.99379.9915070014.956001502.992.992.9911.9599.9914.9511.9911.993.843.843.8414.953.84109.99109.99600600600149.9930014.952.9999.993.843.842.9917002.99999.99379.9911.99379.9911.953.8415011.993.841502.99149.9915011.953.8415011.9515015099.996006002.99379.9911.992.991700149.992.992.992.992.993.8415099.9914.9570011.9911.9915070015014.953.8411.9514.952.992.99379.99379.99379.9911.992.9914.9514.9515011.9514.9514.9514.952.9930011.953.8411.9514.953.843.8411.9515014.9514.9511.9511.9514.95109.99389.9911.99700999.993.843.8414.95170070014.9560014.952.99150109.993.843.842.992.9914.953.8460060011.9911.9911.952.9911.99109.992.9914.953.8411.993.84600.03.843.8411.992.992.993.84170017003.8417002.992.9970011.953.8414.9514.9514.95600109.99400379.9917003.84999.993.843001700149.9914.957001700600999.9911.9599.99999.993.843.8411.9515011.9511.9570014.952.99389.9911.9511.9511.9911.9914.952.992.9911.9511.953.841700400149.99170015017003002.993.84389.9970014.9560014.952.992.99700389.9911.9911.95109.991503.8411.9570015011.952.9914.95600379.99379.99379.9911.9911.992.993.843.8414.9514.951700600.099.9915099.9915014.9515011.9530011.9911.992.992.992.992.992.992.992.9960011.95149.9911.952.99150109.9999.992.9914.95300149.993.843.842.993.843.843.84170099.997002.992.992.992.9914.952.992.992.9911.992.9914.9511.9911.953.8411.95150389.99999.9911.9511.9911.9599.993.843.8470014.953.8411.9940014.9599.9911.95170011.9511.9511.9511.95389.991504002.99700150170014.9511.95379.9914.9514.9511.9970014.951700149.991503.8499.992.992.9970015011.9514.9514.9514.9514.9514.95700150300109.99389.9911.993.843.843.843.84149.9911.9915014.957002.993.843.84700149.994002.9911.957002.99379.99379.9999.9914.952.992.9914.9515011.95109.9970099.993.8411.95379.991503.8414.952.992.992.9914.953.842.992.992.99300389.992.992.9911.99999.993.8411.952.992.992.992.992.9911.9511.9511.9514.95149.993.843.843.842.992.992.9911.9515011.9511.953.8411.9514.956002.9914.953.843.8411.9511.95149.993.8415014.952.993.843.843.84379.9911.95389.9914.953.842.992.99149.993.842.992.9914.9570011.953.8411.9511.9511.9514.9511.95379.99600.0389.9940099.997001502.992.99700109.9914.9599.9999.9960099.9914.9530099.9999.9911.9511.9560060011.95999.9999.9911.9999.9930099.99149.99170014.952.991502.992.992.993.843.8414.9517003.842.992.993.8411.9960011.9599.9911.99389.991700149.99150700150389.9914.952.992.99389.9970011.99149.9915030011.9911.95379.9999.996007007002.9911.9911.952.9930011.9599.9911.9911.9511.992.9960011.992.992.992.992.99700389.9911.99999.9915011.9915011.952.992.9999.9911.951503.843.8499.993.843.842.9999.99149.9999.9911.9511.99389.9911.991502.9999.993002.992.993.8414.95389.993.843.8411.95149.99999.9999.9911.9911.9560011.9960011.9515040011.9599.992.992.99149.9911.953.8414.95170014.95700379.9915099.9999.993.843.842.9999.992.992.9911.952.993.843.8499.9911.9511.95389.9911.952.99389.9999.99149.993.843.8460099.9911.9511.95150389.9915015014.9511.9514.9514.95170011.993.843.84379.992.992.9911.9514.9514.9511.9599.993.8499.9911.9911.9511.9511.952.9914.95999.992.99600379.9911.99379.9911.9511.9970070011.9970011.9511.95149.993.8411.9514.95149.99149.9911.9514.95379.9914.9511.95999.992.991502.992.992.992.993.8411.9911.9511.9511.9511.9511.9511.9914.9570011.9911.953.8440011.9517002.993.84389.9911.95999.992.992.992.992.993.84999.993.843.843.843.8499.99700109.997001503.842.9914.9514.95400149.993.84389.9970014.952.993.8415011.99149.99170014.954007003003.842.993.84400999.99149.993.8499.997002.992.991503003.843.8414.95109.9911.9599.9999.9999.9911.9915015011.9530099.992.992.992.9960015011.9911.9911.9930099.9960011.9515014.953.84149.99379.9914.95379.9911.95379.99170070011.9914.952.9911.9911.99149.993.843.843.8414.952.992.992.9911.95600.011.9911.9999.99149.992.99149.99300149.993002.99389.99999.9915011.9914.9511.993003.843.843.8411.99379.9914.95109.9911.95149.9917002.99379.992.99999.99379.993.8414.953.843.842.99150379.992.992.992.992.9960011.99170099.9911.9515014.9514.9514.9514.9511.9914.9511.9515011.992.99109.9930060011.9511.95149.9914.951502.992.99379.993.8460011.953.843.84600.099.9911.9511.992.993.8411.9511.9514.952.99379.993.84999.992.99389.99149.9999.99379.993.8411.952.9999.9911.9515011.9999.9999.9911.9511.95999.9914.953.842.9914.95150300600.0300389.9914.95379.993002.992.9960011.993.843.842.992.991502.9911.9911.952.992.992.992.992.993003.84149.9911.993.842.99379.9930011.9570099.99999.9915014.9511.95149.99379.9915011.9911.9911.9911.9911.953.842.997003.842.99109.9915014.9570014.9515014.9599.993.84300109.993.8411.991700149.9911.953.8414.95149.99300379.9914.953.8499.9911.9911.9911.95149.993.84389.9911.953.8499.9911.993.843.8499.9960014.9514.9511.9514.95170014.9599.9999.992.992.992.9911.9999.993.8414.951503.843.8415099.9914.952.992.992.9911.9911.992.993.84389.992.997002.992.992.992.9915014.95389.9914.95150149.991700300999.991700700389.992.9911.9911.9911.9911.95150170011.9511.9514.9511.9911.95149.9999.993.843.843.843.8414.9511.952.993.843.8415099.992.992.992.99389.993.8430011.9511.9511.953.84999.9911.9911.9511.9511.9511.9514.9514.9511.9517006003.842.99149.9999.9911.9511.952.992.992.99389.992.992.9999.9911.992.993.843.8411.99379.99149.993002.992.9911.9511.991503.84109.992.992.992.992.9911.956003.843.843.8430015011.99109.993.843.84149.9911.95999.9911.9914.9511.953.843.84379.992.99379.993.843.842.9915011.993.8414.9514.952.9911.953.8499.992.992.9999.9915030014.9540011.951700109.991503.8411.952.992.992.9915011.951503.8430011.993.843.8411.9911.9911.9511.952.9911.993.843.84149.991503.842.992.993.8414.9515011.9911.9599.9999.9917003.841503.843.843.84400300389.9911.952.99999.99400600300150109.99109.9911.9514.9530099.9911.95150379.9911.952.99149.9917007002.992.9914.9515099.9914.9511.9914.9511.95999.9914.9511.99149.99109.9911.953.843.843.843.843.8411.996003.8414.9511.993.84379.9911.9911.9911.993.843.8414.9511.991501503.843.8411.9511.9930014.9514.9511.95600.0109.992.993.843.84149.99389.9911.95109.9999.99600150999.9914.9511.993002.9911.9911.953.8414.95379.99379.9914.953.8499.9914.95999.991503.84600600150700150149.993.842.99700170014.9514.9511.99389.992.9911.9599.9914.9511.9511.953.842.99300379.997006002.992.992.992.992.9915060099.99389.99109.9911.9915015014.951503.84379.9911.952.992.9911.951502.992.9915070015015011.99109.9960011.956003004003003.8499.9911.9999.9999.99149.992.992.9911.99149.9911.993.843.842.99109.992.992.9915099.993.8499.99150149.9914.9599.99149.992.99150999.9960060099.99379.9914.9511.95999.99170014.95109.9911.9511.9911.992.992.9999.9911.9511.9599.9999.9960011.993.8411.9511.9514.95149.9911.993.843.8411.9911.9911.993.842.992.9911.9911.99999.99389.99379.9930014.9514.953.842.991700379.9915011.9511.95149.9911.9511.99149.99600379.9911.9911.951503.84999.992.992.997001502.992.992.991700379.9911.95170030099.991503.84379.9914.9514.9599.9911.99109.99379.9911.952.99999.993.8411.9999.991700149.9970011.992.993.84389.9914.9599.9999.9914.95999.991503.8411.9911.992.993.84389.9911.993.842.9911.9914.953.843.84999.992.992.992.992.993.8411.992.992.992.99389.99379.997002.9970015014.9514.952.992.992.99389.9970014.9511.9915014.9514.9511.99379.993.843.841700389.992.992.992.991503.843.843.84150379.99150149.9930060015011.951503.843.843.8414.9511.9911.953.8415011.954002.9911.9511.95109.993.84109.9914.952.9911.953.8411.9511.952.9911.991502.9914.9514.952.992.992.991503.843.842.992.992.993.8414.95150389.9970014.95999.9911.9511.993.843.842.9911.992.992.9970014.95700999.9911.993.8414.9599.9999.99149.996002.992.9999.992.99149.992.991507001502.9914.9514.95999.9999.993002.9911.9514.95379.992.9911.9511.9511.953.8411.9540070011.99149.99379.992.991501503.84149.992.9999.9911.952.991503.8440060099.992.992.992.992.9911.95149.9911.9511.95300389.993.842.993.8414.95389.993.843.84999.99149.9970011.9911.953.843.8411.9511.993.842.9911.9511.9914.9560015011.952.9911.95389.99150379.9917003.843.8460011.9511.992.992.992.992.992.99149.99379.99150149.99600149.9911.9915014.953.84379.99999.9911.9599.99999.9914.95149.993.843.84379.99389.9914.9511.997002.9911.9911.9999.9914.9511.99379.99999.9999.9911.9511.9514.9511.9914.9515099.9911.99170011.9911.9599.9999.992.9911.9511.9511.9530070015030060011.99109.992.99389.99999.99999.9911.9911.952.992.993.8440015014.952.993.8411.9514.953.8414.953.843.843.8499.99109.9999.99999.9911.9511.9514.95600149.991501501501502.992.992.9914.95149.9914.952.99379.9911.992.9911.9960011.99379.9914.95149.9911.9911.993.843.8499.99149.9911.99109.9914.9511.952.993.8411.9514.95300300149.99389.9915014.95109.992.992.9911.9970015014.9514.9514.9514.952.9911.9911.99149.9930030014.953.8411.99999.9915014.9570011.953002.996006003002.992.992.992.9911.953.84379.9999.9911.95379.992.992.9960011.9599.992.992.993.842.992.992.9914.9514.953.8411.95170014.9511.99600.014.9515099.9911.9511.9911.9960011.9915099.9911.993.843.846002.992.991502.992.991700999.992.992.992.9960040030011.9511.952.9999.9911.952.99149.992.992.993.8460011.9599.9911.9911.9599.991502.992.993.8411.9515011.9914.9540014.9511.9514.9514.9514.95149.9911.953.84149.99170030011.9511.95379.9915014.95379.9915099.9915015015011.9599.9911.9514.9514.9511.993.842.993002.992.992.9914.9511.9515011.953.843.843.843.843.843.8430099.9914.9511.953.843.84149.9915011.951700389.9970099.992.9914.9599.9914.9599.991501504003.84999.993.843.8415014.9514.9514.952.99700600.011.9511.99149.9914.9514.9515014.953.8499.9914.95109.993002.997003.84400170011.991502.99109.9911.9911.9511.95700150149.99149.9914.9511.9514.953.843.8411.9915011.9514.9514.9515011.953.8499.9999.9914.9511.9511.9514.953.843.843.8414.95150109.9970014.9515099.9914.9511.9511.952.9911.953.841503.843.842.9930011.9511.954003.843.8411.9599.99389.9911.9914.952.9914.9514.9514.9511.9511.9511.9599.992.992.9911.9514.953.843.8411.99170011.9911.9999.993.843.8430014.9515060011.9911.9911.9960014.9514.952.991503.8411.9511.9511.9511.9911.9911.9911.99999.99389.99150389.99389.9999.9914.9514.9560099.9911.95170011.9511.95149.992.9999.9914.9515011.952.992.9911.9999.9914.95999.9914.9511.992.9930015015011.9999.99389.9911.9515011.9511.952.992.992.9911.9914.952.9911.9511.9511.9999.99170011.9515011.9511.9511.952.9911.9599.9911.9511.994002.9911.9911.99389.99109.9911.9511.9511.953.843.8470015014.9515011.9914.9511.953.843.8415011.952.992.992.99600999.9914.953002.9911.992.9914.95389.9999.99149.992.992.99389.993.843.8411.9511.953.8470014.952.992.9914.9511.9599.9914.9511.95999.99149.9999.9911.9511.992.992.992.992.992.9911.953.843.842.992.9911.993.843.843.84379.9911.9914.9511.9599.992.993.843.842.992.9914.9570014.9511.95389.9911.95700389.9970011.9911.9914.9514.95379.9999.9911.952.9911.95150379.99109.993.84379.9999.993.8414.9599.99149.992.99389.9999.992.992.99149.99999.992.992.9911.9599.993.842.9911.99379.9911.95379.9911.953.842.992.992.992.992.99170011.9514.9560011.9511.9515011.9911.956002.993.8414.953.843.843.84389.9911.9511.9511.9570014.95150170011.99149.9911.954003.8414.951502.9914.953.847003.84149.992.9960011.953.843.843.843.843.843.84389.992.993.8414.95379.99149.992.992.99150379.993.8414.9511.9511.9960011.95300150999.9970099.99999.99700109.9999.9914.9511.99379.9911.9511.9514.9514.9599.993.84149.99149.9911.99149.99389.9970011.991700109.99389.992.9911.953.843.8499.992.99150149.993003.8430015011.9911.951502.992.99389.99389.9914.95379.993.84389.992.9911.9515011.992.992.992.99170014.9514.95379.9914.952.9911.952.99149.9911.9911.9915099.9914.953.8411.9599.991503.843.8499.9911.952.9914.9570014.951503.843.843.841700149.9999.9999.9930011.9514.95700700999.9917003.842.9914.952.9960011.952.9914.95109.9911.9599.9911.9511.9914.953.841503003.8411.9999.9911.9511.9515011.9511.952.992.992.99700600379.9911.9911.95389.9914.953.842.992.992.9960014.9515011.9914.95149.9911.9511.9511.9515060011.95149.99600.014.9511.9911.9511.95999.99379.99379.9999.99109.9914.953.8430099.992.99170014.9511.993.843.842.993.842.9911.953.84150379.993.8414.9514.9511.9914.95149.991503.843.843.843.8499.9915014.9599.9911.957001502.9911.95150109.992.99300999.99379.9911.95999.9914.95109.992.9999.993.8470014.953.843.8411.9515030011.95379.993.8414.95600379.9915099.992.992.9914.95389.9999.9911.9914.9511.9511.9511.9915011.99150170011.95389.9915011.953.8411.9511.9570011.9915011.993.843.842.9999.9911.953.843.843.843.8411.952.992.993.842.992.993.842.99149.99389.993.8430070011.99379.993.8411.9914.95149.9960011.953.84389.992.991501700389.9914.953.8440014.95150150999.9911.9911.9911.9940011.95109.993.8411.9514.9514.9514.95389.992.9999.9911.952.992.992.9914.95999.992.99170011.953.842.9914.95379.99379.99379.993.84389.9999.9914.9515011.95999.9911.951502.991503.843.8411.992.993.843.8414.953.843.843.8414.95109.9915011.953.8499.9970014.95700149.9914.953.843.843.843.84149.9911.95109.9999.992.9914.952.99389.9911.9914.9514.953.8415015014.9514.95149.99389.9911.95379.99149.9999.9914.95149.9999.997002.992.993.8414.952.992.9999.992.993007002.992.9911.9911.9514.9511.9515015099.99389.9914.953.8411.99150389.992.993.842.99999.99109.992.992.997003.8411.9911.952.9914.9599.993003.847003.8411.9511.9511.993.843.8414.952.9914.952.9911.9515014.95379.991503.84149.993.842.9911.95149.9911.9515014.9599.9911.952.99379.99600389.992.9915011.95400389.9911.992.992.992.992.9960011.9540011.9911.9911.953.843.8411.9517003003.84150389.99149.99170070099.9999.992.992.992.99150149.9914.9560011.9511.9914.9514.9511.9914.952.9914.9511.9511.9599.9914.9515070011.997002.9914.952.9911.9540015011.992.9917001502.993.843.84389.9999.997003.843.8460011.9515014.953.843.843.84389.99170099.99109.9914.9511.95150150149.993.84379.9911.9511.953.84379.99379.9915014.95600600.011.99150400389.9960011.953.843.843.84999.99389.9915060011.9511.993.84389.9970014.951502.992.99389.9911.9599.99389.9917003.8411.95389.99109.99149.9914.952.9914.95170011.953.843.842.991503.8414.9514.95150389.9911.9515015011.9917002.992.992.993.8411.95999.9915014.9514.9511.9514.9514.953.8460011.95149.9914.9515011.9514.953.843.8411.9911.95149.9999.99109.992.992.993003.8411.9911.9960011.952.992.992.99389.993001502.99600.0150389.9970014.95400149.99389.9914.956003003.84109.9914.9511.953.8470014.953.843.8411.9911.993.8411.9514.953002.9911.9911.9911.9570011.9560011.9599.9911.9511.992.992.9914.952.992.9999.9914.9599.9914.95999.9970014.952.992.992.9911.99379.993002.992.992.992.992.9960011.9999.993.843.8414.952.997002.9914.9511.957003.8411.992.99150149.9914.9599.9999.9911.9514.952.992.9911.95149.9914.9599.9914.9514.952.9911.95149.99149.99109.9911.9514.9514.9514.952.992.99999.9914.953.84109.9911.9514.9511.9911.9911.9914.95149.9911.9911.9911.9999.993.843.8414.95300700379.99109.99600400109.9970011.9915099.992.99379.992.993.841503.843.843.843.843.843.8415015011.9911.9515030030099.99600.0389.992.992.992.992.992.993.843.843.84999.9911.9911.99999.99379.9911.993.84600149.9911.993.841502.992.99379.9911.99170011.9911.953.84109.993.842.99700379.9911.9911.9511.9530011.9511.9599.9911.99999.992.992.992.9914.952.992.9911.953.843.8415011.9511.9911.9514.9511.9911.9511.992.992.991502.992.993.84999.9999.9914.95999.99149.99109.9915011.9511.9911.9511.9511.9511.95379.99389.99149.9911.99170099.991503002.9940099.9911.952.99149.9914.9599.99999.992.992.992.99379.99300379.99389.9999.993.84379.99379.9960011.9960011.9511.9599.99999.9915014.952.9914.9560015099.99389.993.843.843.8411.9514.9511.9511.9511.9515014.9511.9911.9911.9911.99170011.9914.9514.9511.95379.9911.952.992.9930070014.953.8411.95700389.993.8411.9511.95379.99999.9915099.9911.99379.9914.9511.99389.9914.952.9911.9999.992.9999.9914.9511.95149.99700150389.992.9911.951700379.99999.993.8414.952.9960070011.9970015011.996003.843.84149.9999.9911.9515014.953.8415011.9511.9514.9514.9514.952.9930011.99170011.95150150150149.993.8414.9515015015011.9911.9911.953.8414.9514.956003.8411.953002.992.99109.9960070014.9560011.953.843.84999.9915011.953.843.841502.992.9914.9599.992.992.992.992.993.84149.992.993.84109.9999.9914.9511.9511.992.9911.9911.9599.9911.99389.991501502.9914.952.9999.9960014.952.993.843.8411.992.992.9915030011.992.99170011.953.843.8414.952.991503.84149.9960011.99149.9911.9911.99109.99379.99150389.9914.9599.9914.9511.99170014.9511.95389.99600.011.9911.9511.9911.99150999.992.9911.952.992.992.99600.011.9911.9911.9511.9914.9514.9599.992.9999.9911.992.9970014.9599.99149.991700600600109.9911.953.846003.843.843.8411.9599.9914.95700150379.9960014.953.843.843.8414.95109.9999.9915011.99149.9915099.9999.99999.9911.992.992.992.992.9911.9511.9911.9999.9915030011.9570011.9570011.95379.992.992.99149.9911.9911.993002.9914.9599.992.9915060011.9911.9999.9915011.953.843.8414.9514.9511.951502.992.992.9960060011.953.843.843.842.992.993.8460011.95389.9999.99149.9915011.9999.99389.99379.991502.991502.9911.9515099.9915011.9599.992.993.843.84149.991502.99150700389.9914.954002.9911.9911.99389.9911.9515099.99149.9911.9911.9911.9911.99999.99109.99999.9911.953.84389.9999.991502.9915060011.9514.9511.951503.8430015011.9911.99150149.99149.9911.952.9914.952.9915014.9511.9930011.9511.9511.9570011.9911.992.992.992.992.9960011.95999.9911.9560011.9514.9599.99379.99389.993.842.992.993.842.991503.843.843.843.8411.9914.952.992.99379.993.8411.993.8430099.996002.99379.9915011.993.8411.99150389.99379.991700150149.9915011.9999.9911.9999.9914.9514.9514.953.8414.95170011.953.8417003.843.843.843.8411.99109.9960011.9511.993.843.843.8414.9515099.993.8411.9911.9914.9514.951503.843.843.843.8460099.9911.953.84379.993.84379.9911.9911.9911.953.843.843.843.843.8411.99379.9911.953.842.9911.952.992.99150149.9914.9514.9514.95379.9911.95389.9914.9514.9511.951502.99389.99389.993.8411.997003.8415014.9514.9511.9514.9511.993.84300149.993.8415011.9511.99999.9911.952.992.993.8411.9911.9911.957002.9911.9517007003.8415099.9999.9999.9999.99149.99150389.9911.9511.9911.95389.99149.993.8414.9511.992.99109.99150109.992.9911.99999.9911.9911.9599.993.8411.951501503.843.8499.9911.9511.952.9911.99170011.992.99389.9914.9511.9511.9514.9511.9515014.9511.95170015099.997003.841503.843.846003.84379.991503.84999.992.992.9914.95389.9960099.993.842.99170011.9599.9911.9914.95379.993.8411.9911.9911.9914.952.9914.9599.992.992.9911.9911.952.9914.952.99149.9911.9960011.95999.9911.99379.9911.993.842.993.8414.953.8411.9999.9914.952.9970011.9911.9911.9511.95109.9911.9530014.953.841700999.993.84389.99400149.9914.9511.9914.95150300389.99379.9999.993.843.8499.9915015011.95150379.9970011.99149.9914.9511.9511.9599.9911.993.84109.993.843.842.992.9914.95150600.011.9511.992.9911.9511.9570011.9915015014.9514.95300149.992.9999.9999.9911.9999.9930011.9599.99109.9914.9511.9911.953.84379.9911.9999.99379.99379.99150600.03.8411.992.9911.9514.9514.956002.9911.99150700109.99389.9911.993.843.84379.9999.9911.99389.9911.9599.996002.99389.9914.9515011.9515014.9514.95389.9911.99170070015014.952.9911.9560011.9599.9914.957003.843.842.992.992.992.9999.99170015011.953.8414.95149.992.992.99999.9930015015011.9914.9514.95379.992.9911.9911.99379.992.992.9970014.9514.9599.9911.992.992.9915011.9999.9999.9914.9514.9511.992.992.992.992.9914.95389.992.9914.9514.9514.95379.99170011.9511.9511.9970011.99170030011.9960099.9930011.9511.953.8417002.99379.99150389.9999.9930060099.9911.9911.9599.9914.9540011.953.8414.952.9930014.951502.992.992.996002.992.99379.993.84389.99999.9940011.95150379.9914.9515011.9914.95389.99170011.9914.9514.95379.99999.992.99379.992.9911.99379.993.843.843.8411.9999.992.992.9999.9911.99109.992.993.843.843.843.8411.9517002.992.9914.9514.9511.9599.99149.99999.99389.99999.991502.992.992.992.9911.9911.99379.99379.9911.9914.953002.99999.9930011.953.843.84149.99400999.99700999.992.992.992.993.8411.992.99600149.9999.9911.9914.951503.8415011.993.843.843.8411.992.992.992.992.992.99389.99300150150150379.99379.9911.953.8414.9514.95300999.9911.95379.99389.99379.996004002.99300389.993.8415011.957002.993.843.84379.99150379.99379.99300150600.014.95379.9911.9511.95149.9917003001501700999.9914.9560017002.9911.993.842.991502.9915014.95379.993.8414.9514.9570014.9514.95379.9911.95389.9911.9511.9515014.9511.993.84379.9911.9511.9511.9511.952.9911.9915099.9911.9514.953.843.843.843.8414.95149.9940060030014.952.992.991503.8411.9511.993.8470011.993.8460011.951700149.9970014.952.9911.952.992.993.8411.9914.95999.992.9914.956002.9911.9515014.9515011.952.99389.992.992.993.8411.9511.9511.9511.95109.9914.9514.9515011.951503.843.843.8417003.842.993.8411.992.992.992.99149.9960011.9911.99170099.9999.9911.953.84149.9911.95600170099.9914.9515060015011.9911.992.992.992.993.841503001507003.8460099.9914.95379.993.843.843.84109.9999.9911.9511.9511.992.99379.9911.952.992.992.996002.99379.992.9914.95389.99109.9911.9511.992.9999.9914.957002.9911.9911.9511.9514.9530014.95149.99149.99600.011.95389.9911.9511.9511.9514.953.843.8499.993.843.843.843.842.9970099.9915015014.9514.9514.9511.9999.99109.992.9911.9599.993.843.842.9911.953.84999.9970011.9599.9914.95109.9915011.95150389.993.8411.993.842.992.9915060014.9599.9914.9514.952.99389.9915011.951502.992.993.8411.9911.9999.9911.9511.9514.9511.99389.9914.951502.9999.9911.951700109.9914.9514.9599.992.992.993.8499.99389.99149.9911.9911.9960011.9599.9911.953.8411.9511.992.992.993.8411.9911.951503.843.842.99389.9970014.953.8415015099.9911.9911.992.9911.953.843.8411.9940011.9911.99150109.9911.95149.9911.9511.9914.953.843.8460011.9911.9511.9599.9914.9514.952.992.992.9911.9911.9511.95999.9914.953.8460011.993.843.8411.997002.992.9999.99600.014.9514.952.9911.9515014.95300999.9911.993.8415099.9911.953.843.842.992.9999.993.8499.991502.9911.9911.99700389.9960011.9599.9914.9511.9511.9511.953.8411.99149.9914.9511.9911.991502.9911.99389.993.84600389.9911.993.843.8411.99379.9911.9511.953.8415015011.9511.9911.993.8414.952.9911.9511.9511.9514.9599.9911.953.843.843.8411.95999.9999.993.843.843.8414.9570014.952.992.992.993.847003.8411.953.843.842.992.9915011.9914.95999.991506003.843.8414.952.9970011.95389.992.9911.9514.95149.9970011.9514.9515099.9911.99999.9914.9540011.9511.9530099.9970014.9517003.8411.9911.9911.99999.9911.9999.9914.952.992.992.992.992.991503.843.843.8415011.9599.9911.9930014.9511.9599.9911.9911.9514.953.843.843.842.9915014.95149.992.9914.95149.9999.9911.992.992.9915014.9511.9911.9511.9511.9914.953.8411.951700379.9970011.9930070014.9599.992.992.99389.9911.95600.015015070030070014.9511.95600.014.95600109.9930014.95999.9915011.9511.95379.9915011.9511.9560011.95109.9911.95150109.99149.992.99150170014.953.8411.952.992.992.992.99170099.993.84379.9930099.99389.9914.9511.9511.99379.9999.9911.95149.9999.99149.99149.992.992.9911.9914.9599.99149.99109.9915011.9599.992.993.843.843.8411.9911.993.841503.8417002.992.99150149.99999.997003.843.84700389.9911.9511.95389.9911.99170011.99389.9970011.993.847001503.8440011.95389.9970011.9914.9514.953.843.842.99379.9915060015014.952.992.991501503.84700999.991502.992.9911.95149.9917003.843.8414.951502.9911.99389.993.843.84170014.9511.9930011.95999.993.843.8411.9911.9914.952.992.992.9914.9515015011.9514.953.8414.9511.9940011.95389.9911.9511.9540011.9999.99389.991503.8470011.9511.993.8411.953.8411.99389.993.84389.9940015011.9914.9599.993.8411.9514.9517003.843.841700389.992.993.842.9911.99600109.993.842.9914.95379.991503.843.8460011.9599.9914.95109.9911.95379.9930030011.9914.95999.99149.9911.953.843002.992.992.992.9999.9914.9511.95389.992.9911.953.8460011.992.991501501502.992.9915014.9514.953.8411.952.992.9914.95149.9911.9511.9515011.9511.992.99600389.993.842.993003.84149.992.992.9915011.9511.952.9911.95389.9930014.95150149.9999.9911.9511.9911.9911.95149.99999.993.843.8414.95149.99109.993.842.993.84150149.992.992.9999.99999.993.843.8414.952.992.99149.993.842.9914.95109.99109.991501503.8470017001503.8411.9911.9914.9514.953.84379.99149.9911.9515099.9911.95109.9914.95700150300170011.99999.9970014.9511.9914.9599.99999.9911.9914.9599.9914.9514.952.9970014.953.8411.952.9911.9511.9911.9911.9560011.9511.9570099.993.8414.95379.9911.9511.9515011.9970014.9511.99109.993.843.8414.95999.9914.953.843.8470030014.9511.99149.99150999.9911.95379.99150170011.9911.9911.952.99400149.9911.9514.9599.9911.9511.99109.9911.99109.9914.9599.9911.99300999.99150700109.997003.842.9960011.9999.9911.951700149.991700700150999.9914.952.9915014.9570030011.952.99149.993.8411.9511.992.9914.9511.9970014.952.993.8411.9511.9570011.9911.991502.992.993.843.8499.993.8414.952.992.99379.9911.99999.99170015011.9914.9570011.953.84379.991502.9999.991503.8414.952.9914.952.992.993.842.99149.9911.9514.9511.95999.9911.993.843.843.84999.9940011.9514.952.992.992.9911.9511.99379.99109.9970099.993.843.84389.992.992.9999.993.8414.953.843.8411.997003.8499.9911.9911.9511.9911.99600.03.843.843.843.8430099.99149.997002.993.8411.9511.9511.9599.9911.992.99389.993.84600389.992.992.992.992.992.992.992.9940011.992.9914.9511.9911.956002.992.9999.9999.9999.9999.9914.9514.953.8499.9914.9514.9514.9514.9515099.9911.95379.9915011.993.84389.9914.95379.993.8411.953.842.993001503.8415014.9560011.9915011.9911.9560011.993.8411.993.84600389.9911.9960099.993.846003.841700109.9930011.9999.9914.9511.953.8414.95170015014.9511.9999.9911.9911.9914.9599.991501700999.9911.993003.842.992.992.99389.99149.99999.99300170011.9511.953.8414.9514.9514.9514.9514.953.8414.9514.9599.9914.9514.952.992.9914.9511.9514.9514.9514.95109.99170011.9599.99389.99149.9914.9570011.993.8499.9970011.9914.95149.991503.843.843002.992.9911.953.844003.8411.9940099.99389.99999.991502.992.9999.9914.9599.9911.9515011.9514.95379.9911.9511.95150389.9911.95999.992.992.992.9940040011.9511.95389.99379.9914.952.99389.9914.95389.992.992.99379.9914.953.8411.9911.9960099.9999.992.9914.95700379.993.842.9960011.9911.9515014.9511.9514.9599.992.9911.9914.9515099.99999.993.843.8414.9560099.993.841507002.9999.9911.9599.993.8411.9514.9599.99170011.952.9999.9999.9911.9917002.992.9911.9511.954003.84150170099.9970070030070014.953.843.8415011.9911.9911.9511.953.843.8470099.99150700149.9911.99109.992.99389.99379.993003002.992.9914.9570099.9911.95150389.992.9911.9914.953.8414.953.8414.9530011.9511.99379.992.9960011.9570014.95999.99389.9911.95109.997001502.99999.993.84149.9999.99379.9911.9599.99109.9999.993.843.84379.9911.99389.9970014.9540011.9970099.992.992.993.843.846003.8411.953.843.843.841502.9911.9515011.9511.9514.9511.992.9970011.952.9914.951502.99109.992.9915014.953.843.84999.9911.9911.9514.953.843.8414.95379.9911.992.9914.952.993.843.843.8499.992.9911.953.842.992.9911.9915014.9511.9570014.9514.95379.9970099.9911.95700389.99389.9917002.997002.991507002.9911.994002.99389.9914.9599.993.842.996002.992.992.992.9914.9511.9540011.9514.9511.954002.992.9914.95109.99389.992.9970014.95600150109.9914.9514.952.992.992.992.9960014.9514.95600.02.992.9911.99379.993.84389.99379.99150170011.992.992.992.992.992.992.9999.9911.9511.9911.9511.952.992.99149.9960011.991503.8499.9911.9511.99109.9914.95150389.9999.9911.951502.9911.9511.991700149.99109.9960011.9911.9911.9515014.9511.953.8411.9911.95170099.9911.95149.9914.952.993002.992.992.992.9911.95379.9911.992.992.9914.95150600379.99149.993.843.8430060011.957006002.9911.9511.9514.952.99150150999.99379.992.9911.9911.9911.993.843.84389.9940014.9515099.99149.9915011.9911.953.8430011.9914.953.84379.99999.9999.9911.992.992.9914.9515011.9511.95999.99300149.9911.9911.9911.956003.8460011.9511.9599.993.8411.9511.9514.9514.952.9915014.953.8411.9599.9911.952.992.992.992.9911.992.993003.843.843.843.8499.9911.9511.9515014.9515011.95999.99109.99999.9960011.993.84389.99379.993.843.843.843.84389.9915011.9514.9511.9511.9999.9911.9970014.9570060011.9960011.9515014.95379.9914.9599.9960014.952.99600379.9911.95379.9911.9511.99379.9914.953.843.843.843.843.8430014.9514.9514.9560015011.9570099.9911.9511.9514.95150389.993.8411.99999.9911.952.99379.9911.953.843.8414.9514.9514.9511.95379.9999.991502.992.9915011.952.992.99379.9930014.9514.9511.99999.9999.992.9999.9940070011.9914.9511.9514.952.992.992.99389.9911.9911.993.842.99600389.9940011.9914.95999.993.84149.991700149.9911.951502.99389.9914.952.992.9911.9911.99700999.9911.9511.9570099.9911.953.8414.9530099.993.843.84149.9914.9511.9914.95999.992.992.9911.9917002.992.9914.9514.953.842.993.8411.9911.99150149.9911.9515011.9515070011.95999.993.8414.9599.99379.9960015011.9511.9514.952.992.99170011.9511.9511.95149.9911.9911.9915070014.9514.9511.95600.0999.99149.9914.9514.9511.99150389.993002.9970011.992.993.843.8411.95109.99150149.993.84389.993.842.992.9911.993.843.843.8470099.9911.9911.99379.99149.9914.953.84389.991502.992.993.843.84379.993.84379.9960011.9911.95150999.9914.9511.9599.99600.011.95149.993.8499.9915014.9599.9911.9911.99999.991501503.84149.99389.993.842.992.99999.9999.9911.99150149.99389.992.993.8411.952.9911.9911.9915011.9599.992.9914.95389.9915099.99999.9914.953.843.84379.99379.992.992.992.992.992.992.9914.9511.95999.993.842.9940011.993.843.8415014.953.843.843.8415015011.9515011.9599.993.843.84149.993.843.843.84379.9911.9599.9970014.9514.9514.9514.9511.95600.014.9511.9511.9515011.95379.9915015011.9999.992.9914.9511.9914.9530011.99109.993.8411.9570015011.9911.99999.99379.992.9911.99379.99150149.99379.993.8411.95999.9914.95149.9911.992.9911.9514.9511.9511.9915011.993.842.992.9914.9515011.952.9960011.9570011.993.8411.953.8460099.99109.9911.953.8411.992.992.992.9915060014.9515011.9960011.9911.9511.9511.997002.992.9970015014.9560011.95170014.953.8470011.9999.9970014.9511.9599.992.993.8414.95600.02.99389.993.843.843.8411.9515015070014.9515011.9511.9911.9511.9511.996003.842.992.9911.9914.9560099.9915014.9514.95600.0149.9915060011.9911.95999.992.9999.9911.95379.992.9914.9570099.9970011.953.843.843.8440011.9511.953002.9999.9999.9914.9511.952.992.992.9960011.95149.9914.953.843.8499.992.992.9911.9911.9999.9911.9999.99600.099.99149.99379.992.9911.95389.9911.95149.9914.9511.9599.99149.99149.9914.9511.9999.9999.9915014.952.992.993.843.84149.9914.952.99170099.992.992.992.9911.95170099.993.84149.9930014.9511.95109.99109.9940011.9511.9999.9911.99300150109.997002.992.992.992.9999.99149.9911.957002.992.992.9915015011.9911.9511.95149.992.992.99150150149.9914.9514.9511.9514.95170060011.951700149.9960011.952.99999.9914.9511.9911.9511.9911.9911.9914.9515099.993.8414.9570014.951503.843.843.841502.9999.9999.992.9999.9999.9911.992.992.9914.9514.9530070011.993.843.843.843.843.8414.9511.9514.952.992.992.9911.9515015040011.992.99109.99389.99999.992.992.993.8499.992.997001502.9911.95999.99389.993.843.843.8414.9530011.993.8417003.843.842.9911.9911.993.843.843.8414.952.992.992.99389.992.993.8414.9560011.993.842.99600.099.99150700389.99389.9914.953.842.9911.993.8411.9530011.99389.992.99109.992.992.992.992.9999.99109.9911.991501503.8414.954002.992.992.992.992.992.992.99170011.993.84170070011.9914.95109.9999.99300389.9911.95379.993.8414.95379.992.99389.993.8460011.9511.9511.9599.99170014.95389.9999.9970015011.952.9999.99389.993.84170011.993.8411.992.992.992.99379.99109.9930099.993.8499.9911.9511.9515040011.9914.952.992.99999.9914.9511.952.993.8411.9914.9514.951506003002.992.993.8411.9930011.9514.9599.99379.9970014.95150379.99999.9911.9914.953.843.8414.9560011.95149.9970015011.9970015011.9911.99149.99149.9911.9911.9911.9511.996003.843.843.8411.95300389.9911.99379.9914.9511.953002.9914.953.8414.9511.952.992.993.8411.95379.9960070011.952.992.992.9960011.957003.843.84379.99149.9999.9940014.9511.952.992.9911.956003.8499.993.8414.952.992.9960011.992.992.992.99149.9911.9511.95999.9915011.9911.9911.9914.9514.9540011.952.9940011.9511.9960099.99149.991503.84389.993.843.8499.993.8470011.953.8411.95149.99109.9999.99150149.99150600.0149.9911.9514.9511.9511.9514.9514.9511.99389.992.99149.9960011.9599.9999.992.9911.9999.9911.952.9911.9911.99379.9914.9517002.9911.9530011.9911.99700600.011.99389.993.8460011.957002.992.9970011.9911.9915011.9914.952.992.992.992.992.9970014.9511.99379.992.992.992.992.992.993.842.992.992.992.9911.9515011.952.992.992.992.992.993.8415070014.9514.9514.9514.9530014.9514.9570011.99109.9970011.9914.9514.9599.99149.9911.952.991503.84389.993.843.84999.9915011.9560011.9570015014.9599.99149.993.8411.9911.9911.9911.99379.9960011.95389.9914.9511.9914.95389.9911.9514.95389.992.992.993.843.8411.99109.99389.99149.9914.9511.9515014.95700379.992.9914.95379.9915015014.9511.9511.951502.9914.95700149.9911.9914.9514.9514.9530030011.9911.9911.9911.992.993003.842.99999.992.9914.9511.99109.99300389.9999.992.993.8414.953.8411.9570011.953.8411.991506003.8499.99149.993.84150150150170099.99999.99379.993.843.8430011.9960011.952.992.992.993.8499.992.9915011.95379.993.843.843.8470011.95379.9999.9911.95999.992.992.9911.95109.9915099.992.9914.9511.9511.993.84700149.9911.9911.95999.992.9915099.99700149.99379.9911.9511.9511.9511.9514.9514.951501502.9911.992.9911.9514.952.99300149.9911.9599.992.99109.9911.952.992.992.992.99149.9911.991502.9911.9530011.952.9911.9511.9560011.9914.9515011.9540099.9999.992.992.9911.9511.9514.95149.9915099.9914.9599.9999.992.992.99999.992.99600109.992.992.997003.8499.9999.9915011.9599.9915070011.99300150379.9999.992.9917003.843.8470014.9570011.9514.952.992.99149.99389.99389.99149.9915011.953.8415099.9915011.9999.993.842.992.993.843.8499.9915011.9911.99389.993.843.843.8415099.9911.952.992.9911.952.99300170099.997001507002.992.9914.9514.952.9914.9511.9914.9514.9514.95389.9911.9911.9911.9599.993.843.843.84700150109.9914.95389.993.843.843.844002.992.992.9911.991503.843.8414.9511.95149.993.8415015014.952.9930099.9999.9911.9960015011.9911.953.8411.9960011.9915011.99170017003.8470014.95170011.993.8414.9511.9511.95109.99149.992.992.992.9911.9515011.95150379.9911.9999.9970011.9514.9511.9511.9514.953.8430017002.992.992.99149.9911.9515011.95389.9914.9599.9911.9911.99300149.99149.9911.952.9911.99109.9915011.9511.993.842.992.992.992.992.992.99389.993.8411.9911.993.843.843.843.84379.9911.9999.9960099.9915011.951503.8415014.953.843.847002.992.9915040011.9914.95999.9914.9514.95149.992.992.992.997002.992.9930014.9511.953.8417002.992.992.9999.9915099.9911.9514.9599.993.843.8411.95149.992.991700149.99389.99150109.991502.9911.992.992.99149.99600.060015070099.9911.9911.992.992.99389.992.992.99149.9911.9511.953.8470011.953.8414.952.9970014.951506002.992.992.992.992.992.992.9911.9530014.952.9915099.9911.9911.9511.9511.99150149.9915011.9914.9515011.953.843.843.843.8430011.993.8411.9511.9570011.9511.95150150149.9914.9511.9999.9999.9911.99150389.9911.9911.953.84109.9930011.9515011.95149.9930060011.9911.9911.99999.991503.8499.9911.99999.992.99149.9914.9514.95149.99109.993.84150300379.9911.9515099.99700379.9915011.951507006002.9960040099.993.8430011.9511.993.8411.95379.9911.992.9911.95149.9970011.992.992.9914.9514.95149.9911.9514.9514.95109.9914.9511.95150389.992.992.99379.9930011.9511.99999.992.992.992.9914.956002.99150389.9914.957003.8411.952.992.992.9999.9999.9970014.9514.9599.99999.9914.953.843.8411.9511.9915011.991700109.9911.9511.9511.9514.9514.9514.9515014.9515011.953.843002.99999.99700700109.9914.9599.992.992.992.992.9940099.99170011.99379.9911.992.9999.9911.953.8411.952.992.9911.9511.951503.843.8411.993.8414.9511.9911.99999.993.846002.992.9914.9515011.95149.99149.9915011.952.9914.9514.9514.9514.9511.952.9914.9514.9514.9599.9999.9911.954001502.99600379.9914.9511.99150379.992.99389.9914.9514.9514.9511.95379.99389.9914.953.843.8411.99149.99999.9940014.9511.993.843.84109.9911.95109.993.84149.99149.9999.993.8411.9914.9514.9514.953.8411.9911.9917002.9911.993.843.843.8411.9930014.9511.9911.99379.9914.9570014.9540017006001503.84109.993.8414.9514.95389.9999.9911.9560011.9599.99389.99149.9914.95999.9999.9914.953.84149.99379.9911.9999.9911.99379.9911.99389.992.992.992.9911.95149.9911.9511.952.99300389.99999.991700389.9911.95149.9911.9511.993.84149.9911.95150700150109.9999.9999.993.8411.9570011.9911.951502.992.993.843.84109.9915014.9514.9514.9599.992.992.992.992.9999.992.9911.991502.9911.952.992.9911.992.992.9911.9599.9911.952.992.993.8411.9560014.95149.992.992.99600.03.842.993.843.842.993.843.841503.843.8411.992.99700150379.9999.9999.9911.99389.993.846001700999.99389.9911.9560011.952.99999.9911.993.843.843.8470014.9514.9514.9514.951503.8414.9515011.9911.9911.9511.9511.992.9914.9514.952.99149.9999.991700379.9999.9911.9514.9511.953.843.8430011.953.843.84389.992.9911.9914.95600.0999.9999.9914.956002.99379.992.992.991503.843.8415011.9911.9914.9514.9511.9515099.992.9911.9514.952.992.99379.99379.99170014.9599.99109.9911.9599.99700149.9914.95109.99150379.991503.8411.9511.9511.993.8411.9911.9511.9511.9511.9915015014.952.99150109.993.8414.9515011.9970014.9570017002.993.843.84109.9911.95170060011.99999.992.993.8414.9511.9514.952.99389.9999.9911.9514.9511.9911.952.9911.9911.992.992.99389.992.991502.9970014.9530060014.95150109.991503.843.8415040011.9511.95379.9911.99999.99170060011.9599.99600.011.9511.95170011.95149.993002.9911.9911.95389.992.992.992.9999.993.8415011.9599.992.9914.9511.9511.992.9999.992.992.992.991503.8411.9514.953.843.843.8499.991502.991503.843.843.8411.95379.9914.9511.9911.9515060011.9511.95379.9911.952.99149.99150700379.9911.953.843.84389.9999.992.997003.843.842.992.993.8415011.9915011.993.8411.9911.99389.9914.952.9911.9511.9914.952.992.992.99170011.951700149.992.9911.9599.99600389.99999.992.992.993.841503.8411.99379.9911.952.991501503.843.842.993.8411.9511.9911.95379.99149.9930011.95389.9911.9511.9914.95999.9911.9911.95109.992.992.9911.9911.993.843.842.991502.9911.9599.992.99999.9930099.9915014.95300170099.996002.992.992.9970011.95149.99389.9911.99379.993.843.843.841502.9970015011.9914.9514.9599.993.84109.9911.9911.9599.9999.99379.993.843.8411.9915011.992.99149.9911.9915011.9515011.952.992.992.992.9914.951503.843.8414.952.992.992.992.9911.99379.9911.9511.99379.9911.9511.9511.9917001502.9999.9914.952.9914.9570099.9911.95600109.9911.9515011.9599.9914.951700600389.992.9914.95379.9911.9911.952.9914.9511.99149.99600.015099.993.8499.991700379.9911.9911.9914.9599.99389.9911.9514.9514.9514.95600170011.9530099.9915070011.99300389.99600.011.9911.993.843.84999.993.84150400150999.9914.952.9940011.9511.9511.9514.95149.99109.993.842.9960040015014.9599.9970011.9599.9915011.951502.992.992.99150150600.099.993.843.8411.99389.9911.9514.95149.9911.95379.992.991503.843.8414.9530011.9911.9914.9514.952.9911.9599.99999.9911.9999.993.842.992.992.992.992.993.8414.95149.9914.95389.99389.99170030040011.953.8414.953.843.8414.953.843.84149.9911.953.843.84150300379.9911.95389.99389.9915099.992.99149.992.992.993.843.842.992.991502.9911.9599.9911.953.84300600.03002.992.992.99379.992.992.992.9911.95149.992.992.99999.9911.9911.9999.993.84109.9917003.843.84389.9911.9911.99149.9911.952.992.992.9915014.956003.843.843.84389.9911.9514.9514.953.84389.99600.03002.9911.9599.9914.9511.9911.9911.9914.9511.992.9914.9514.9511.9511.9530099.9999.9914.9511.9911.9514.9511.9999.9940014.9511.9511.9511.9914.952.99389.99170011.9914.9511.9511.952.992.9911.95999.99150389.9915011.9511.954001700149.9930060014.95109.9915030014.9511.992.992.9915099.99999.992.992.9911.992.993.8414.9511.9511.9514.9514.95700109.9911.99149.9960011.952.9915011.9914.956002.992.9911.952.9911.9511.953.843.84149.9914.95600.03.8411.952.9911.9514.9570011.9915011.99149.9911.9511.952.99379.99999.9999.99109.9911.953.8415011.9999.9911.9540011.95389.99389.99300389.9914.9540011.95999.9914.952.993.84379.9915011.9514.9517001502.992.992.992.99389.996002.99170011.992.9914.95379.99379.9911.95379.9914.9511.9911.95149.9970014.9560011.9514.9540011.993.842.9914.953.84999.9911.952.992.9915040014.9514.95999.9914.95999.9960011.9514.9599.99149.993.843.84149.9914.9514.95149.993.843.84149.99389.9911.9511.993.843.843.8499.9960011.952.99600109.99999.9960015014.9515011.951503.843.8414.9511.992.9911.95379.9911.95389.9940011.99700149.9914.9514.9514.9514.9511.9511.9911.99150600389.99109.9911.952.992.992.992.992.99150109.9911.9999.99379.9999.9970011.992.992.9914.9599.992.993.842.9911.951700109.99600.014.9514.953.8499.99109.997003.843.84150999.9911.953.8499.99149.9911.993.8415040011.9511.9914.953.8411.95999.9999.992.992.9999.992.9911.993.843.84600150150600.02.993.84379.993.843.843.84600.014.95109.992.9915011.99600600149.9915011.953.843.843.843.843.843.8411.9511.992.99600389.99149.992.992.992.9914.9599.9911.95149.992.992.992.9970014.9511.9911.9511.992.992.9999.9914.9514.9514.95379.992.997002.992.993.843.842.9911.951700389.9999.9914.9511.991502.99379.9911.95999.992.9970011.9911.9911.99170060011.9511.9514.9511.9911.99999.9911.952.99109.9914.95389.99379.9999.9911.9599.9914.9599.9960014.9511.9511.953.8411.952.997003.8411.9511.9514.9514.952.993.84149.9914.95109.99170099.9911.9511.993002.9917003.84389.9914.9514.9511.9911.9914.9515015011.95300389.9999.9999.99379.9914.95109.9911.992.9915011.9560011.957003.8411.99400149.9930011.95379.994003002.99999.9911.9511.9511.993.8411.9511.95149.9911.9599.99150150170099.99389.9911.9511.9514.9514.9511.9511.9911.9514.95389.9915011.953.843.8499.992.99109.99149.991503.843.843.84700149.99149.9914.95379.992.992.992.99389.99379.9911.9560011.9511.9911.9511.95149.9914.95149.993.843.843.8411.953.84389.9911.9911.953.8411.9511.9515014.9599.9999.9911.9599.992.992.992.99600.0389.99109.991503.8499.992.992.996002.9917003.84379.9999.9914.952.9970099.9970099.9911.992.9915014.9560014.952.992.992.9999.99149.9914.9511.9530070015040011.991503.8411.9511.95389.9911.993.8460011.9911.9911.9514.9540099.9999.9914.9511.9911.9911.996003.843.84379.9999.993.84170060011.9511.9999.993.843.843.843.8415014.9514.952.99999.992.992.99379.9999.992.9911.9515099.9970099.993.84379.993.843.8411.9530015011.953.8414.95170014.9514.9511.952.992.9960011.951501503.84389.9911.9514.95149.9911.95149.992.992.9914.953.8440011.954003.841502.993.8414.957002.9911.9911.9914.9514.953.843.842.99149.9911.95389.9914.9517001503.8411.952.992.9914.952.992.9999.992.99170099.99149.991700109.992.9911.9511.95170099.99379.9999.9999.99150379.991503.843.843.8414.95389.992.9915070099.993.843.842.9915011.9915014.9560011.951503.843.84379.9911.99109.991700999.9915014.9511.992.9915014.9514.9511.9911.9999.992.992.9999.9914.95379.992.991502.992.992.99389.9914.951502.992.992.9999.992.99150379.993.84149.993.843.8499.99109.992.992.992.99600170011.9911.9970014.9515011.951503.843.8415011.95389.9911.957002.99999.9911.9511.9511.9911.9530060011.99389.9911.9911.9514.9511.9599.9914.9511.9511.95999.9914.9514.95379.992.9915011.9960011.953.8414.952.99389.992.9930011.9511.9511.996003.8411.9970014.952.993.8414.95700149.993.8414.95149.993002.992.9911.9511.95149.9970014.95150149.991503.843.8411.9914.9511.99389.99170014.9599.9911.9511.9999.9911.953.84170011.9599.992.992.99389.9915099.99150150379.993.843.843.8411.99149.9911.9911.9511.9911.9511.95379.991502.992.9930011.95149.99389.9911.95150170015011.953.84700379.99150600379.993.8414.952.992.99389.991503.8411.9511.9914.9511.996002.992.9914.9599.99109.99300149.9911.953.842.9911.991503.843.8415017002.992.9999.99170011.953.8414.9515011.9511.9511.9599.99389.9999.9930070015014.9511.952.9915011.9515011.9914.953.843.843.847003.8414.9599.99600.0150170014.9511.95109.99389.99149.9911.95149.992.992.992.992.9911.9514.9514.9514.9514.9514.9511.95149.992.9999.991503.843.8415011.95170011.99149.9911.9911.95389.99389.9930015099.9911.9911.9911.9911.9511.9915060011.9511.9511.95149.992.997006003.84150150389.99389.992.992.992.992.99600.011.9911.953.843.843.84300389.9914.953.843.842.993.842.992.99379.9999.9911.95999.9911.9911.9530015014.953.843002.992.9914.9514.9511.9511.9915011.9914.9599.9914.9517003.84109.99999.9999.9911.9960099.993.841700600.011.9911.9999.9915060015099.9911.9960011.9511.95379.992.992.992.992.9914.9530099.9999.992.99150109.9911.9599.9911.9911.9911.953.84150600389.99149.9911.95379.99389.9911.951502.9914.9599.99389.9914.95109.99149.99379.9914.95379.9911.953.8411.9915015011.953.8415011.952.9911.9911.992.992.99389.9914.9514.9570014.952.993.8411.9911.9511.992.9999.99379.9911.953.843.8414.9515011.9911.9970014.9515014.952.9999.992.9911.9911.9960011.9914.9511.9599.99379.9914.9514.953.8414.95150999.99149.992.9914.9511.9970099.9914.9514.9570014.9511.9911.9511.9511.9511.992.9911.9914.95170017003.84109.993.84150389.9911.95999.9911.9511.9560014.9530099.9960099.993.843.843.843.846001503.8430011.9914.95109.992.9911.9511.9530014.95379.997003.84149.99149.992.9914.9511.9970011.9511.9914.95379.9911.996003.84150149.99170060040011.993.843.84999.9914.9511.9914.95149.992.992.992.992.9911.953.843.843.842.992.9911.952.992.992.99150389.9999.99149.99379.9914.95379.99149.9911.95999.9917002.9930011.9914.9514.9514.952.9914.9514.952.9999.99389.993.843.843.843.842.9940014.953.841700149.9917001503.843.842.992.99109.9914.95999.9999.993.843.8415011.9511.99600.011.9599.9911.9540011.953.8414.95170011.99389.9911.9514.9599.9914.9517003.84149.9999.99999.9911.9560011.952.993.843.84999.99600.011.9999.994003.841501504003.8411.99149.99149.9999.9911.9999.992.9915011.951502.9917003.84389.99150379.9911.9911.993.846002.99389.992.992.992.992.992.99109.99600.02.992.992.9914.95379.99149.9999.9911.9599.9911.9511.95379.9960014.9599.99389.99109.9911.9599.993.843.843.8414.9517001501503.8414.95149.99300700109.9911.9560014.9511.95150999.991503.842.9999.99149.9911.9514.952.993.843.843.843.8417001700109.99999.993.84150999.992.9911.9911.993.8415015014.952.992.992.992.9914.9514.9514.952.992.992.992.9960014.9514.9560011.9511.9511.95999.99389.993.8415015014.95400379.993.843.84109.9911.9511.9511.99379.993.843.843.843.843.8499.99999.99389.99109.993.84600.0149.99389.9911.9914.952.993.8415014.9514.9515015011.95149.9911.952.9930014.952.991502.9970099.9911.9999.9914.95149.9911.992.992.992.9999.9914.95379.993.8411.9511.9511.953.8411.9511.9514.95389.9911.95300379.99379.992.992.99999.992.992.9970011.992.992.992.9911.9514.95150600.011.99600149.99109.9915030011.9911.953002.9911.9914.9540011.9511.95600379.99149.9911.99389.9911.9599.992.99300149.993.8499.99379.9960011.9511.9911.953.843.843.842.9911.991503.8414.9515014.9511.9914.952.992.992.993.84149.99149.9911.99389.99379.9999.9999.991503.8411.9514.9599.9911.9511.99149.993002.992.9911.9911.9911.9515011.9511.9511.9511.95700389.9914.95150109.992.9911.9514.953.8430015011.9915099.99379.99149.99170030011.953.843.8415011.9514.953.8411.9914.95389.9999.9911.9914.9511.992.9914.953.84149.99700379.992.9914.95170014.9599.993.8411.9999.993.843.84389.9930011.9511.95150379.992.993.8414.95389.9911.9511.9511.953.842.992.9911.9970011.952.992.9999.99150150389.992.993.843.84999.99389.9911.9511.953.8411.9914.953.842.992.9999.99149.9911.9999.99149.99389.99109.9960011.9511.9930011.9511.9970099.993.842.9999.9914.9511.9514.95150109.9999.9960011.95389.99379.9999.993.8411.992.992.992.992.993.84379.992.9914.9511.9515015014.95700109.9911.95149.9915015014.9511.9960014.95149.99600700999.9911.9511.9514.9599.99999.99109.99150149.9914.953.8460011.99379.992.9911.993.8414.9515014.95999.99109.9960060099.9999.9911.9511.9599.99150149.99389.9930011.9960030011.95109.9940011.9511.9511.9911.9599.992.992.997003.84389.993.8499.99300109.99149.991503.8414.9514.9515014.9511.9514.9511.9914.952.9911.953.843.8470014.95300999.992.992.992.992.9914.953.8411.951502.9911.9911.99149.9911.95379.991502.992.9911.9599.9915099.99149.992.992.992.99389.9911.9514.9515011.952.9911.953003.842.992.993.8499.992.992.992.99389.992.9911.992.992.992.992.99379.99379.9915070014.9511.9914.9515030011.9911.99700379.993.843.843.843.842.992.9999.9911.9911.9911.993003.8414.9514.9530014.953.84389.993.8411.95149.9914.952.992.9911.993.843.8499.992.9917002.9911.9511.9515060011.9514.9599.99379.9911.9911.993.8411.9514.9599.9930011.9511.95999.99999.9911.99379.9911.95150379.99109.9911.993.8411.95150109.992.9914.9514.95600.015099.992.9960014.951503.8411.9911.99700999.9911.992.992.9911.9511.9511.9960099.9911.9911.9511.991503.843.84999.997003.84999.9911.99389.99149.993.842.9914.9511.9911.99999.9914.95149.99389.992.993.8499.993003.843.843.84400109.9911.95389.992.9911.952.992.992.9970011.9911.9911.9511.997002.99600149.992.992.9911.99379.99389.9999.992.992.992.992.9999.9960011.9511.95700379.9915017002.99149.9915011.9599.9914.953.8499.99389.993.843.842.9999.992.9911.9511.99149.9915014.9511.9511.9911.9914.9599.9960014.9514.9515011.9914.9599.9911.992.992.9999.9911.9599.9999.992.997002.992.9960015011.9511.9511.9514.9599.99109.993.8411.9511.9911.9511.9514.953.8430011.9514.953.843.841700379.993.84170011.99109.991502.997003.843.843.843.843.84999.993.843.843.843.843.843.843.843.843.8430014.951700149.9940014.953.84389.9914.9511.9511.9915011.9911.95150150389.99149.993.843.841502.992.9911.9511.953.8414.9511.951501506002.9914.95389.99600149.9914.953.84149.993.8411.951503.8411.991503.8414.9511.9511.9514.9514.9599.993.843.84389.9970060011.9599.9911.953.8411.952.9911.993003002.9911.992.992.992.992.9911.9514.9511.9915011.9514.951503.842.992.9914.9599.9970014.95109.9914.952.9999.9999.99150109.9914.9514.953.84389.9914.9511.9514.953.8470014.95300379.9911.9511.9914.9511.953.8499.9911.95379.99149.9915099.9911.992.9999.997002.9911.952.9911.953.8499.993.843.8414.953.843.843.84109.9914.95170015011.95379.9911.9511.95109.9911.993.8430015014.95600.099.9911.9911.992.9999.9915099.9911.9960011.951503.843.8411.9514.9514.9514.952.99999.9911.9914.9511.992.99379.9999.9970011.9911.9511.9511.95109.9960099.9911.9515014.9511.9570011.9911.9970011.993.84109.9911.952.9914.9599.99389.992.99999.9911.95170011.9914.95700150149.9914.9514.953.843.84149.99999.991502.992.992.99150389.99109.992.992.992.992.99150379.993.843.843.8499.99379.9930099.993.8411.9511.952.9914.9514.9599.9914.957003.8411.9514.953.843.84379.992.992.992.992.992.9911.95149.99170014.95379.9911.9599.99170017002.992.9914.9514.951700170070014.95109.9915030015014.953.843.8414.95149.9911.9999.9914.9514.9599.9911.9511.9599.9999.9911.99389.9915014.9514.9514.9515014.9511.95700170014.9511.9914.9514.9599.99150389.993.84300379.99999.9911.9599.9999.99999.99999.993.843.8460011.9999.9914.953.84109.993002.99149.9999.9917002.99389.991503.843.842.99170014.9514.95999.993.843.84379.9914.9560011.9511.9514.9570011.9970014.9570014.9515014.9511.993.8414.95389.993.8414.953002.992.99109.9911.9511.95600379.993.843.84149.9911.9560011.993.843.843.8411.9511.9514.952.992.992.993.843.8411.99999.9970014.9515011.99600389.9930014.953.843.843.842.99149.993.843.8415060011.9511.9570014.9514.953.843.843.843.843.843.8411.9911.992.992.9915015014.9514.9511.993.843.843.842.9915011.95149.9911.992.992.992.9970011.952.993.842.9999.99389.9911.9514.953.8415014.9511.9514.9514.9511.952.9914.95149.9930014.9515014.9540011.99389.99379.992.9999.9999.9911.9511.95389.993.843.8414.9514.9514.95109.9911.95150379.99149.9914.9515070011.993.843.843.84379.992.992.992.992.9911.9511.95109.992.992.9915011.99150109.993.8460011.952.992.992.992.9999.992.99389.9914.95389.997001700389.9911.9914.953002.992.992.99300150389.9911.9911.9911.99389.992.99150149.9999.9999.9915015030011.9911.9511.953.843.8415015014.953.843.8499.992.992.993.843.8499.992.9999.9960014.9599.99700379.997002.992.992.993.84170099.992.992.9960011.9540014.9560011.99379.9999.9911.95379.9911.9914.9514.95379.9911.95379.9914.95700389.99150999.9911.95149.9911.993.84149.992.992.992.99379.99109.9914.953.84999.993.8414.9560011.993.843.843.8499.99389.992.992.992.9917001700999.9960011.9514.95150389.993.843.8414.9515099.9930011.9511.99389.993.8411.992.99149.99389.99999.9970099.9999.9911.9914.9511.9511.9914.953.8411.953.8411.9911.9911.9599.9970011.9911.9511.95389.9914.95389.99379.99150389.9915060099.99389.9911.9911.99389.99389.9911.9911.951502.992.992.99149.99149.99379.994001503.8430014.953.84389.9911.9514.952.992.992.992.992.992.99389.9915099.993.8411.993.8414.953.8411.992.993.8411.95149.9915011.9511.951503.843.842.9911.953007003.8414.9514.95389.9911.9999.9970014.9511.952.9911.9511.95379.991502.993.843.8411.9911.9511.9599.99109.993.8470070014.953.8499.993.843.84149.992.992.992.992.992.9970014.9514.95389.9914.9530099.9999.993.84150389.993.8499.99700999.9999.991506002.9970011.9511.9511.9970011.9911.991503.842.992.992.9911.9911.9999.99379.99170014.9511.95150150149.9914.9511.953.8470070014.951502.99700170030014.9530060011.953.843.8499.9915011.9511.9511.9540099.9999.993.8414.9540014.9511.9511.9911.9511.9530011.9911.95999.9914.9514.9514.9511.9911.9599.9911.952.9914.95379.993.8499.9914.95600.011.952.992.992.9960011.95170014.952.993.842.99170060099.992.992.9911.9515014.95379.9911.9911.9911.9930015011.9911.993.843.8414.952.992.9911.9511.95600.015014.9514.9514.9570011.99149.992.991700389.992.992.992.9915011.9514.9599.993001502.99149.9914.9511.953.843.843.842.992.9915011.953.8414.9515011.9514.9511.9511.9911.95389.993.842.9915011.9914.95700149.9911.9911.9517003.84149.9911.9911.993.84149.99389.99109.9915011.957002.997003.8414.952.99999.992.99150109.9914.9515011.992.99999.9914.953.843.84149.9911.952.992.992.992.992.992.9915030015011.9511.9511.95109.9914.9560015011.9599.9911.99700389.9911.9914.9511.9599.99170011.95379.9914.9511.9511.9511.95999.99389.9915070099.9911.953.843.842.993.843.8499.9911.9911.9511.99600300379.9914.953.843.84149.99600.0149.99379.9911.9914.9511.99149.992.992.9911.95170014.95149.9940099.99149.993.842.9911.9911.95109.9960011.9511.9914.9514.953.8411.953.843.843003003.8411.99379.99999.9930011.9914.9514.9514.9511.9511.993.843.843002.9911.99379.9914.953.842.9914.952.9960011.99149.99379.9917002.9914.9515099.99379.993003.8411.9915011.9911.9511.992.9911.99389.9911.9540011.9911.9511.9911.9914.95379.996001502.992.992.99600600.02.993.8411.992.992.993.8411.9914.953.8415070014.952.9999.99700149.9999.993.842.992.992.9911.9530011.992.9914.9511.99149.9914.9515011.9511.9599.992.996001502.992.992.9960099.9911.9999.9914.9511.951501501700149.9911.9911.9514.952.992.9914.95389.9970011.9514.9511.993.84109.9911.9511.9511.9914.953.843.8411.9511.952.9911.9914.9514.9514.9514.9511.9511.95109.9911.95379.993.8460015014.9511.95379.9911.9911.99379.99109.9999.993.8411.99600389.9911.9914.9514.9511.9511.953.8411.953.8460011.9914.9599.991501503.842.992.99389.9911.95149.993.843.84389.992.992.99149.992.9999.99149.9915070014.9511.9911.9970014.952.992.9999.9915011.95999.9914.9511.9511.95389.993002.992.992.992.9970011.993.843.843.843.8414.9514.9511.9970014.9514.9514.95999.9914.953.84379.99149.99170011.95109.99999.9914.9560099.993.843.8411.9999.99109.993.8411.9511.951700389.99150109.9914.9530011.99379.9970014.9511.9514.9514.95600.014.9514.953.843.8411.9911.99149.9911.9911.9911.95109.99149.9914.9514.9511.993.843.8415011.99389.9911.953.843.8499.9914.9511.952.9999.9911.99149.99389.9911.9999.992.9911.9511.9599.993.843.8411.9911.991700379.993.84109.99149.992.992.992.992.99379.9911.95109.9914.9511.9530099.99999.991503.8411.99379.992.992.992.992.992.9911.9914.95300149.9911.9511.952.9999.991503.8415014.9511.95389.99149.993.843.843.8499.9915011.99999.993.8470014.952.9911.9911.952.9914.9599.9960015014.9514.953.8411.9914.953.8411.95389.9999.99109.9911.9911.992.9914.953002.992.993.8499.9940011.993.847003.843.8499.99150400600.0389.991503.842.992.99109.991501501700300400600.0389.9914.9511.9515011.9511.9911.9511.9511.9530014.9514.956001503.843.8411.95600.0149.9999.99149.992.992.992.99389.9911.9999.9999.9911.992.992.992.992.992.9911.9911.9914.9514.95389.99149.992.9911.9911.9999.9999.9914.9599.9911.9914.95109.9914.95149.9911.9514.953.8470015014.9514.9560015011.9911.99600389.9911.9570014.95150150150109.993.843.843.843.843.843.8414.95600.030011.9511.953.841502.992.99999.992.9911.99149.993.8411.953.8414.9511.99700389.9917001700999.9914.9530014.953.842.9930014.9511.9960011.99300149.9911.953.843.842.9914.9511.9915060011.997002.99999.993.8411.952.993.8414.9514.9514.9514.95149.9911.9511.992.992.992.992.996003.843.8411.9511.9515099.9911.956002.99150109.9940011.99600.014.952.992.992.992.9911.952.992.99999.992.9911.993.8470011.95149.9911.95149.9999.992.992.992.992.992.9915060014.9514.95600.011.9599.9999.993.84379.9911.9914.9514.9560011.952.9914.95379.992.992.993.8411.9911.991503.8414.953.8470011.95379.99379.992.9930014.9511.95379.9911.9514.9599.992.9915011.95379.9911.9911.991507002.9999.993.843.84149.992.99999.9911.9514.9511.9911.9599.9940011.9511.95389.99170011.9540014.9599.99109.993.8414.9511.99170060011.9514.95379.99700149.9911.953.843.843.843.84149.993.84379.992.9917002.9915015011.9999.9911.953.842.99379.992.993.843.8414.95149.9960011.95150389.99170011.9511.9517001502.992.9911.9511.95149.9914.952.9911.95170014.953.84'"
      ]
     },
     "execution_count": 28,
     "metadata": {},
     "output_type": "execute_result"
    }
   ],
   "source": [
    "dfnew.groupby('mois')['Chiffres_Affaires'].sum().max()"
   ]
  },
  {
   "cell_type": "code",
   "execution_count": null,
   "id": "0f2efa5c",
   "metadata": {},
   "outputs": [],
   "source": []
  }
 ],
 "metadata": {
  "kernelspec": {
   "display_name": "Python 3 (ipykernel)",
   "language": "python",
   "name": "python3"
  },
  "language_info": {
   "codemirror_mode": {
    "name": "ipython",
    "version": 3
   },
   "file_extension": ".py",
   "mimetype": "text/x-python",
   "name": "python",
   "nbconvert_exporter": "python",
   "pygments_lexer": "ipython3",
   "version": "3.11.5"
  }
 },
 "nbformat": 4,
 "nbformat_minor": 5
}
